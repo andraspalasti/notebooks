{
 "cells": [
  {
   "cell_type": "code",
   "execution_count": 1,
   "metadata": {},
   "outputs": [],
   "source": [
    "import numpy as np\n",
    "from tqdm import trange\n",
    "from datasets import fetch_mnist\n",
    "\n",
    "# This was built using the 3blue1brown video series\n",
    "# https://www.youtube.com/playlist?list=PLZHQObOWTQDNU6R1_67000Dx_ZCJB-3pi"
   ]
  },
  {
   "cell_type": "code",
   "execution_count": 2,
   "metadata": {},
   "outputs": [],
   "source": [
    "# Load the mnist dataset\n",
    "images_train, labels_train, images_test, labels_test = fetch_mnist()"
   ]
  },
  {
   "cell_type": "code",
   "execution_count": 3,
   "metadata": {},
   "outputs": [],
   "source": [
    "def sigmoid(x: np.ndarray):\n",
    "    return 1.0 / (1.0 + np.exp(-x))\n",
    "\n",
    "\n",
    "def layer_init(m, h):\n",
    "    ret = np.random.uniform(-1.0, 1.0, size=(m, h)) / np.sqrt(m * h)\n",
    "    return ret.astype(np.float32)\n",
    "\n",
    "\n",
    "def d_sigmoid(x: np.ndarray):\n",
    "    return sigmoid(x) * (1 - sigmoid(x))\n",
    "\n",
    "\n",
    "def loss_function(pred: np.ndarray, target: np.ndarray):\n",
    "    return np.square(pred - target).mean(axis=0)\n",
    "\n",
    "\n",
    "def d_loss_function(pred: np.ndarray, target: np.ndarray):\n",
    "    return 2 * (pred - target) / pred.shape[0]\n",
    "\n",
    "\n",
    "class Network:\n",
    "    def __init__(self):\n",
    "        self.input_layer = layer_init(128, 28 * 28)\n",
    "        self.output_layer = layer_init(10, 128)\n",
    "\n",
    "    def forward(self, x: np.ndarray):\n",
    "        x = self.input_layer.dot(x.T)\n",
    "        x = sigmoid(x)\n",
    "        x = self.output_layer.dot(x)\n",
    "        x = sigmoid(x)\n",
    "        return x.T\n",
    "\n",
    "    def backward(self, x: np.ndarray, y: np.ndarray):\n",
    "        x_layer1 = self.input_layer.dot(x.T)\n",
    "        x_sigmoid1 = sigmoid(x_layer1)\n",
    "        x_layer2 = self.output_layer.dot(x_sigmoid1)\n",
    "        x_sigmoid2 = sigmoid(x_layer2)\n",
    "\n",
    "        delta_2 = (\n",
    "            d_loss_function(x_sigmoid2, y.T) * d_sigmoid(x_layer2) / x_sigmoid2.shape[1]\n",
    "        )\n",
    "        d_layer2 = delta_2.dot(x_sigmoid1.T)\n",
    "\n",
    "        delta_1 = d_sigmoid(x_layer1) * self.output_layer.T.dot(delta_2)\n",
    "        d_layer1 = delta_1.dot(x)\n",
    "        return d_layer1, d_layer2\n",
    "\n",
    "    def update_params(self, dl1, dl2, lr):\n",
    "        self.input_layer = self.input_layer - lr * dl1\n",
    "        self.output_layer = self.output_layer - lr * dl2\n"
   ]
  },
  {
   "cell_type": "code",
   "execution_count": 4,
   "metadata": {},
   "outputs": [
    {
     "name": "stderr",
     "output_type": "stream",
     "text": [
      "  0%|          | 0/1000 [00:00<?, ?it/s]/var/folders/f0/bcsr84m12mg20tdcd868wcnm0000gn/T/ipykernel_47364/2913633973.py:2: RuntimeWarning: overflow encountered in exp\n",
      "  return 1.0 / (1.0 + np.exp(-x))\n",
      "100%|██████████| 1000/1000 [00:01<00:00, 578.77it/s]\n"
     ]
    }
   ],
   "source": [
    "# Training\n",
    "\n",
    "BATCH_SIZE = 128\n",
    "model = Network()\n",
    "for i in (t := trange(1000)):\n",
    "    sample = np.random.randint(0, images_train.shape[0], size=(BATCH_SIZE))\n",
    "\n",
    "    input = images_train[sample].reshape((-1, 28 * 28))\n",
    "\n",
    "    target = np.zeros((labels_train[sample].size, 10), dtype=np.float32)\n",
    "    target[range(labels_train[sample].size), labels_train[sample]] = 1.0\n",
    "\n",
    "    dl1, dl2 = model.backward(input, target)\n",
    "    model.update_params(dl1, dl2, 0.1)\n"
   ]
  },
  {
   "cell_type": "code",
   "execution_count": 5,
   "metadata": {},
   "outputs": [
    {
     "name": "stdout",
     "output_type": "stream",
     "text": [
      "accuracy: 0.8948000073432922\n"
     ]
    },
    {
     "name": "stderr",
     "output_type": "stream",
     "text": [
      "/var/folders/f0/bcsr84m12mg20tdcd868wcnm0000gn/T/ipykernel_47364/2913633973.py:2: RuntimeWarning: overflow encountered in exp\n",
      "  return 1.0 / (1.0 + np.exp(-x))\n"
     ]
    }
   ],
   "source": [
    "# Evaluation\n",
    "def eval():\n",
    "    X = images_test[:].reshape((-1, 28 * 28))\n",
    "    Y = labels_test[:]\n",
    "    out = model.forward(X)\n",
    "    accuracy = (np.argmax(out, axis=1) == Y).astype(np.float32).mean()\n",
    "    return accuracy\n",
    "\n",
    "\n",
    "print(f\"accuracy: {eval()}\")\n"
   ]
  },
  {
   "cell_type": "code",
   "execution_count": 6,
   "metadata": {},
   "outputs": [
    {
     "name": "stdout",
     "output_type": "stream",
     "text": [
      "From label: 7\n",
      "From NN: [7]\n"
     ]
    },
    {
     "data": {
      "image/png": "[encoded data removed]",
      "text/plain": [
       "<Figure size 432x288 with 1 Axes>"
      ]
     },
     "metadata": {
      "needs_background": "light"
     },
     "output_type": "display_data"
    }
   ],
   "source": [
    "# Testing\n",
    "import matplotlib.pyplot as plt\n",
    "\n",
    "IDX = 64\n",
    "\n",
    "fig, ax = plt.subplots()\n",
    "ax.imshow(images_test[IDX])\n",
    "\n",
    "x = images_test[IDX].reshape(-1, 28 * 28).astype(np.float32)\n",
    "out = model.forward(x)\n",
    "\n",
    "print(f\"From label: {labels_test[IDX]}\")\n",
    "print(f\"From NN: {np.argmax(out, axis=1)}\")\n"
   ]
  }
 ],
 "metadata": {
  "kernelspec": {
   "display_name": "Python 3.9.13 64-bit",
   "language": "python",
   "name": "python3"
  },
  "language_info": {
   "codemirror_mode": {
    "name": "ipython",
    "version": 3
   },
   "file_extension": ".py",
   "mimetype": "text/x-python",
   "name": "python",
   "nbconvert_exporter": "python",
   "pygments_lexer": "ipython3",
   "version": "3.9.13"
  },
  "orig_nbformat": 4,
  "vscode": {
   "interpreter": {
    "hash": "b0fa6594d8f4cbf19f97940f81e996739fb7646882a419484c72d19e05852a7e"
   }
  }
 },
 "nbformat": 4,
 "nbformat_minor": 2
}
